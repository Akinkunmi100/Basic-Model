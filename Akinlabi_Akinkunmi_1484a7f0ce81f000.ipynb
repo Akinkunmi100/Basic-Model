{
 "cells": [
  {
   "cell_type": "code",
   "execution_count": 1,
   "id": "db85308c",
   "metadata": {},
   "outputs": [],
   "source": [
    "import numpy as np"
   ]
  },
  {
   "cell_type": "code",
   "execution_count": 2,
   "id": "55c7dc4c",
   "metadata": {},
   "outputs": [],
   "source": [
    "import pandas as pd\n",
    "\n",
    "data = pd.read_csv('FoodBalanceSheets_E_Africa_NOFLAG.csv')"
   ]
  },
  {
   "cell_type": "code",
   "execution_count": 3,
   "id": "40910b4e",
   "metadata": {},
   "outputs": [
    {
     "data": {
      "text/html": [
       "<div>\n",
       "<style scoped>\n",
       "    .dataframe tbody tr th:only-of-type {\n",
       "        vertical-align: middle;\n",
       "    }\n",
       "\n",
       "    .dataframe tbody tr th {\n",
       "        vertical-align: top;\n",
       "    }\n",
       "\n",
       "    .dataframe thead th {\n",
       "        text-align: right;\n",
       "    }\n",
       "</style>\n",
       "<table border=\"1\" class=\"dataframe\">\n",
       "  <thead>\n",
       "    <tr style=\"text-align: right;\">\n",
       "      <th></th>\n",
       "      <th>Area Code</th>\n",
       "      <th>Area</th>\n",
       "      <th>Item Code</th>\n",
       "      <th>Item</th>\n",
       "      <th>Element Code</th>\n",
       "      <th>Element</th>\n",
       "      <th>Unit</th>\n",
       "      <th>Y2014</th>\n",
       "      <th>Y2015</th>\n",
       "      <th>Y2016</th>\n",
       "      <th>Y2017</th>\n",
       "      <th>Y2018</th>\n",
       "    </tr>\n",
       "  </thead>\n",
       "  <tbody>\n",
       "    <tr>\n",
       "      <th>0</th>\n",
       "      <td>4</td>\n",
       "      <td>Algeria</td>\n",
       "      <td>2501</td>\n",
       "      <td>Population</td>\n",
       "      <td>511</td>\n",
       "      <td>Total Population - Both sexes</td>\n",
       "      <td>1000 persons</td>\n",
       "      <td>38924.00</td>\n",
       "      <td>39728.00</td>\n",
       "      <td>40551.00</td>\n",
       "      <td>41389.00</td>\n",
       "      <td>42228.00</td>\n",
       "    </tr>\n",
       "    <tr>\n",
       "      <th>1</th>\n",
       "      <td>4</td>\n",
       "      <td>Algeria</td>\n",
       "      <td>2501</td>\n",
       "      <td>Population</td>\n",
       "      <td>5301</td>\n",
       "      <td>Domestic supply quantity</td>\n",
       "      <td>1000 tonnes</td>\n",
       "      <td>0.00</td>\n",
       "      <td>0.00</td>\n",
       "      <td>0.00</td>\n",
       "      <td>0.00</td>\n",
       "      <td>0.00</td>\n",
       "    </tr>\n",
       "    <tr>\n",
       "      <th>2</th>\n",
       "      <td>4</td>\n",
       "      <td>Algeria</td>\n",
       "      <td>2901</td>\n",
       "      <td>Grand Total</td>\n",
       "      <td>664</td>\n",
       "      <td>Food supply (kcal/capita/day)</td>\n",
       "      <td>kcal/capita/day</td>\n",
       "      <td>3377.00</td>\n",
       "      <td>3379.00</td>\n",
       "      <td>3372.00</td>\n",
       "      <td>3341.00</td>\n",
       "      <td>3322.00</td>\n",
       "    </tr>\n",
       "    <tr>\n",
       "      <th>3</th>\n",
       "      <td>4</td>\n",
       "      <td>Algeria</td>\n",
       "      <td>2901</td>\n",
       "      <td>Grand Total</td>\n",
       "      <td>674</td>\n",
       "      <td>Protein supply quantity (g/capita/day)</td>\n",
       "      <td>g/capita/day</td>\n",
       "      <td>94.90</td>\n",
       "      <td>94.35</td>\n",
       "      <td>94.72</td>\n",
       "      <td>92.82</td>\n",
       "      <td>91.83</td>\n",
       "    </tr>\n",
       "    <tr>\n",
       "      <th>4</th>\n",
       "      <td>4</td>\n",
       "      <td>Algeria</td>\n",
       "      <td>2901</td>\n",
       "      <td>Grand Total</td>\n",
       "      <td>684</td>\n",
       "      <td>Fat supply quantity (g/capita/day)</td>\n",
       "      <td>g/capita/day</td>\n",
       "      <td>80.06</td>\n",
       "      <td>79.36</td>\n",
       "      <td>77.40</td>\n",
       "      <td>80.19</td>\n",
       "      <td>77.28</td>\n",
       "    </tr>\n",
       "  </tbody>\n",
       "</table>\n",
       "</div>"
      ],
      "text/plain": [
       "   Area Code     Area  Item Code         Item  Element Code  \\\n",
       "0          4  Algeria       2501   Population           511   \n",
       "1          4  Algeria       2501   Population          5301   \n",
       "2          4  Algeria       2901  Grand Total           664   \n",
       "3          4  Algeria       2901  Grand Total           674   \n",
       "4          4  Algeria       2901  Grand Total           684   \n",
       "\n",
       "                                  Element             Unit     Y2014  \\\n",
       "0           Total Population - Both sexes     1000 persons  38924.00   \n",
       "1                Domestic supply quantity      1000 tonnes      0.00   \n",
       "2           Food supply (kcal/capita/day)  kcal/capita/day   3377.00   \n",
       "3  Protein supply quantity (g/capita/day)     g/capita/day     94.90   \n",
       "4      Fat supply quantity (g/capita/day)     g/capita/day     80.06   \n",
       "\n",
       "      Y2015     Y2016     Y2017     Y2018  \n",
       "0  39728.00  40551.00  41389.00  42228.00  \n",
       "1      0.00      0.00      0.00      0.00  \n",
       "2   3379.00   3372.00   3341.00   3322.00  \n",
       "3     94.35     94.72     92.82     91.83  \n",
       "4     79.36     77.40     80.19     77.28  "
      ]
     },
     "execution_count": 3,
     "metadata": {},
     "output_type": "execute_result"
    }
   ],
   "source": [
    "data.head()"
   ]
  },
  {
   "cell_type": "code",
   "execution_count": 5,
   "id": "1bb1ef77",
   "metadata": {},
   "outputs": [
    {
     "name": "stdout",
     "output_type": "stream",
     "text": [
      "Item\n",
      "Alcohol, Non-Food           0.00\n",
      "Alcoholic Beverages         0.00\n",
      "Animal Products             0.00\n",
      "Animal fats            209460.54\n",
      "Apples and products         0.00\n",
      "                         ...    \n",
      "Vegetables, Other           0.00\n",
      "Vegetal Products            0.00\n",
      "Wheat and products          0.00\n",
      "Wine                        0.00\n",
      "Yams                        0.00\n",
      "Length: 119, dtype: float64\n",
      "Item\n",
      "Alcohol, Non-Food           0.00\n",
      "Alcoholic Beverages         0.00\n",
      "Animal Products             0.00\n",
      "Animal fats            269617.53\n",
      "Apples and products         0.00\n",
      "                         ...    \n",
      "Vegetables, Other           0.00\n",
      "Vegetal Products            0.00\n",
      "Wheat and products          0.00\n",
      "Wine                        0.00\n",
      "Yams                        0.00\n",
      "Length: 119, dtype: float64\n"
     ]
    }
   ],
   "source": [
    "# the total sum of Animal Fat produced in 2014 and 2017 respectively\n",
    "\n",
    "print(data.groupby(['Item']).apply(lambda x: x[x['Item'] == 'Animal fats' ]['Y2014'].sum()))\n",
    "print(data.groupby(['Item']).apply(lambda x: x[x['Item'] == 'Animal fats' ]['Y2017'].sum()))\n",
    "\n",
    "\n",
    "# total sum of animal fat produced in 2014 is 209460.54\n",
    "# total sum of animal fat produced in 2014 is 269617.53"
   ]
  },
  {
   "cell_type": "code",
   "execution_count": null,
   "id": "293e677d",
   "metadata": {},
   "outputs": [],
   "source": []
  },
  {
   "cell_type": "code",
   "execution_count": null,
   "id": "a86bfee9",
   "metadata": {},
   "outputs": [],
   "source": []
  },
  {
   "cell_type": "code",
   "execution_count": 6,
   "id": "9dddd2b4",
   "metadata": {},
   "outputs": [
    {
     "name": "stdout",
     "output_type": "stream",
     "text": [
      "135.236\n",
      "1603.404\n"
     ]
    }
   ],
   "source": [
    "# the mean and standard deviation across the whole dataset for the year 2015 to 3 decimal places\n",
    "\n",
    "print(round(data['Y2015'].mean(), 3))\n",
    "print(round(data['Y2015'].std(), 3))\n"
   ]
  },
  {
   "cell_type": "code",
   "execution_count": 7,
   "id": "3ccecd5f",
   "metadata": {},
   "outputs": [
    {
     "name": "stdout",
     "output_type": "stream",
     "text": [
      "1535\n",
      "2.52\n"
     ]
    }
   ],
   "source": [
    "#total number and percentage of missing data in 2016 to 2 decimal places\n",
    "\n",
    "print(data['Y2016'].isnull().sum())\n",
    "\n",
    "print( round(data['Y2016'].isnull().sum()* 100 / len(data), 2))"
   ]
  },
  {
   "cell_type": "code",
   "execution_count": null,
   "id": "5e152104",
   "metadata": {},
   "outputs": [],
   "source": []
  },
  {
   "cell_type": "code",
   "execution_count": null,
   "id": "33ae5c73",
   "metadata": {},
   "outputs": [],
   "source": []
  },
  {
   "cell_type": "code",
   "execution_count": 29,
   "id": "5737166c",
   "metadata": {},
   "outputs": [],
   "source": [
    "# year that had the highest correlation with ‘Element Code’"
   ]
  },
  {
   "cell_type": "code",
   "execution_count": 9,
   "id": "be4fcc58",
   "metadata": {},
   "outputs": [
    {
     "name": "stdout",
     "output_type": "stream",
     "text": [
      "0.024456819495221795\n",
      "0.02388919930163992\n",
      "0.023443997584961428\n",
      "0.02425400776004572\n",
      "0.02427857195351955\n"
     ]
    }
   ],
   "source": [
    "corr1 = data['Element Code'].corr( data['Y2014'])\n",
    "corr2 = data['Element Code'].corr( data['Y2015'])\n",
    "corr3 = data['Element Code'].corr( data['Y2016'])\n",
    "corr4 = data['Element Code'].corr( data['Y2017'])\n",
    "corr5 = data['Element Code'].corr( data['Y2018'])\n",
    "print(corr1)\n",
    "print(corr2)\n",
    "print(corr3)\n",
    "print(corr4)\n",
    "print(corr5)\n",
    "\n",
    "\n",
    "# year 2014 is the one having the highest correlation"
   ]
  },
  {
   "cell_type": "code",
   "execution_count": null,
   "id": "e80323c2",
   "metadata": {},
   "outputs": [],
   "source": []
  },
  {
   "cell_type": "code",
   "execution_count": null,
   "id": "ec698747",
   "metadata": {},
   "outputs": [],
   "source": []
  },
  {
   "cell_type": "code",
   "execution_count": 10,
   "id": "29e6183c",
   "metadata": {},
   "outputs": [],
   "source": [
    "# year that has the highest sum of Import Quantity"
   ]
  },
  {
   "cell_type": "code",
   "execution_count": 11,
   "id": "f68de28e",
   "metadata": {},
   "outputs": [],
   "source": [
    "im_q = data.groupby('Element')"
   ]
  },
  {
   "cell_type": "code",
   "execution_count": 12,
   "id": "d268eb9d",
   "metadata": {},
   "outputs": [
    {
     "data": {
      "text/plain": [
       "Area Code                                                  688174\n",
       "Area            AlgeriaAlgeriaAlgeriaAlgeriaAlgeriaAlgeriaAlge...\n",
       "Item Code                                                13795966\n",
       "Item            Cereals - Excluding BeerWheat and productsRice...\n",
       "Element Code                                             28834929\n",
       "Element         Import QuantityImport QuantityImport QuantityI...\n",
       "Unit            1000 tonnes1000 tonnes1000 tonnes1000 tonnes10...\n",
       "Y2014                                                   274144.48\n",
       "Y2015                                                   267018.46\n",
       "Y2016                                                   286582.78\n",
       "Y2017                                                   294559.09\n",
       "Y2018                                                   287997.09\n",
       "dtype: object"
      ]
     },
     "execution_count": 12,
     "metadata": {},
     "output_type": "execute_result"
    }
   ],
   "source": [
    "import_quant_year = im_q.get_group('Import Quantity').sum()\n",
    "import_quant_year"
   ]
  },
  {
   "cell_type": "code",
   "execution_count": null,
   "id": "490600e4",
   "metadata": {},
   "outputs": [],
   "source": []
  },
  {
   "cell_type": "code",
   "execution_count": null,
   "id": "221fde9c",
   "metadata": {},
   "outputs": [],
   "source": []
  },
  {
   "cell_type": "code",
   "execution_count": null,
   "id": "820e0cc8",
   "metadata": {},
   "outputs": [],
   "source": []
  },
  {
   "cell_type": "code",
   "execution_count": 13,
   "id": "0db732a3",
   "metadata": {},
   "outputs": [],
   "source": [
    "# total number of the sum of Production in 2014"
   ]
  },
  {
   "cell_type": "code",
   "execution_count": 14,
   "id": "a7dd6952",
   "metadata": {},
   "outputs": [],
   "source": [
    "p = data.groupby('Element')"
   ]
  },
  {
   "cell_type": "code",
   "execution_count": 15,
   "id": "24948a58",
   "metadata": {},
   "outputs": [
    {
     "data": {
      "text/plain": [
       "Area Code                                                  526751\n",
       "Area            AlgeriaAlgeriaAlgeriaAlgeriaAlgeriaAlgeriaAlge...\n",
       "Item Code                                                10450053\n",
       "Item            Cereals - Excluding BeerWheat and productsRice...\n",
       "Element Code                                             21388191\n",
       "Element         ProductionProductionProductionProductionProduc...\n",
       "Unit            1000 tonnes1000 tonnes1000 tonnes1000 tonnes10...\n",
       "Y2014                                                  1931287.75\n",
       "Y2015                                                  1947019.39\n",
       "Y2016                                                  1943537.15\n",
       "Y2017                                                  2030056.89\n",
       "Y2018                                                  2075072.89\n",
       "dtype: object"
      ]
     },
     "execution_count": 15,
     "metadata": {},
     "output_type": "execute_result"
    }
   ],
   "source": [
    "production_2014 = p.get_group('Production').sum()\n",
    "production_2014\n",
    "\n",
    "# the total production in 2014 was 1931287"
   ]
  },
  {
   "cell_type": "code",
   "execution_count": null,
   "id": "e0d70955",
   "metadata": {},
   "outputs": [],
   "source": []
  },
  {
   "cell_type": "code",
   "execution_count": 16,
   "id": "ac6e80dc",
   "metadata": {},
   "outputs": [],
   "source": [
    "# elements that had the highest sum in 2018 ?"
   ]
  },
  {
   "cell_type": "code",
   "execution_count": 17,
   "id": "7825b77d",
   "metadata": {
    "scrolled": true
   },
   "outputs": [
    {
     "data": {
      "text/plain": [
       "Element\n",
       "Domestic supply quantity                  2161192.10\n",
       "Export Quantity                            181594.80\n",
       "Fat supply quantity (g/capita/day)          10258.69\n",
       "Feed                                       233489.68\n",
       "Food                                      1303841.28\n",
       "Food supply (kcal/capita/day)              455261.00\n",
       "Food supply quantity (kg/capita/yr)         49056.85\n",
       "Import Quantity                            287997.09\n",
       "Losses                                     163902.00\n",
       "Other uses (non-food)                       91300.97\n",
       "Processing                                 308429.00\n",
       "Production                                2075072.89\n",
       "Protein supply quantity (g/capita/day)      11833.56\n",
       "Residuals                                   34864.00\n",
       "Seed                                        25263.14\n",
       "Stock Variation                             20577.91\n",
       "Total Population - Both sexes             1140605.00\n",
       "Tourist consumption                            90.00\n",
       "Name: Y2018, dtype: float64"
      ]
     },
     "execution_count": 17,
     "metadata": {},
     "output_type": "execute_result"
    }
   ],
   "source": [
    "data.groupby('Element')['Y2018'].sum()\n",
    "\n",
    "# the element with highest sum in 2018 is domestic supply quantity has the highest"
   ]
  },
  {
   "cell_type": "code",
   "execution_count": null,
   "id": "55d671bd",
   "metadata": {},
   "outputs": [],
   "source": []
  },
  {
   "cell_type": "code",
   "execution_count": null,
   "id": "d45f35c0",
   "metadata": {},
   "outputs": [],
   "source": []
  },
  {
   "cell_type": "code",
   "execution_count": 18,
   "id": "a5785afc",
   "metadata": {},
   "outputs": [],
   "source": [
    "# elements that had the 3rd lowest sum in 2018"
   ]
  },
  {
   "cell_type": "code",
   "execution_count": 19,
   "id": "95d28b7b",
   "metadata": {},
   "outputs": [
    {
     "data": {
      "text/plain": [
       "Element\n",
       "Domestic supply quantity                  2161192.10\n",
       "Export Quantity                            181594.80\n",
       "Fat supply quantity (g/capita/day)          10258.69\n",
       "Feed                                       233489.68\n",
       "Food                                      1303841.28\n",
       "Food supply (kcal/capita/day)              455261.00\n",
       "Food supply quantity (kg/capita/yr)         49056.85\n",
       "Import Quantity                            287997.09\n",
       "Losses                                     163902.00\n",
       "Other uses (non-food)                       91300.97\n",
       "Processing                                 308429.00\n",
       "Production                                2075072.89\n",
       "Protein supply quantity (g/capita/day)      11833.56\n",
       "Residuals                                   34864.00\n",
       "Seed                                        25263.14\n",
       "Stock Variation                             20577.91\n",
       "Total Population - Both sexes             1140605.00\n",
       "Tourist consumption                            90.00\n",
       "Name: Y2018, dtype: float64"
      ]
     },
     "execution_count": 19,
     "metadata": {},
     "output_type": "execute_result"
    }
   ],
   "source": [
    "data.groupby('Element')['Y2018'].sum()\n",
    "\n",
    "# the element is Protein supply quantity (g/capita/day)"
   ]
  },
  {
   "cell_type": "code",
   "execution_count": null,
   "id": "071b7d4b",
   "metadata": {},
   "outputs": [],
   "source": []
  },
  {
   "cell_type": "code",
   "execution_count": null,
   "id": "b613956d",
   "metadata": {},
   "outputs": [],
   "source": []
  },
  {
   "cell_type": "code",
   "execution_count": 20,
   "id": "9c8a850b",
   "metadata": {},
   "outputs": [],
   "source": [
    "# total Import Quantity in Algeria in 2018"
   ]
  },
  {
   "cell_type": "code",
   "execution_count": 25,
   "id": "eb8859ba",
   "metadata": {},
   "outputs": [],
   "source": [
    "ar = data.groupby('Area')"
   ]
  },
  {
   "cell_type": "code",
   "execution_count": 26,
   "id": "7ead71cf",
   "metadata": {},
   "outputs": [
    {
     "data": {
      "text/plain": [
       "36238.29"
      ]
     },
     "execution_count": 26,
     "metadata": {},
     "output_type": "execute_result"
    }
   ],
   "source": [
    "alg_imp_q = ar.get_group('Algeria')\n",
    "alg_imp_q[alg_imp_q['Element']=='Import Quantity']['Y2018'].sum()"
   ]
  },
  {
   "cell_type": "code",
   "execution_count": null,
   "id": "ad32dab2",
   "metadata": {},
   "outputs": [],
   "source": []
  },
  {
   "cell_type": "code",
   "execution_count": null,
   "id": "37dc3e9b",
   "metadata": {},
   "outputs": [],
   "source": []
  },
  {
   "cell_type": "code",
   "execution_count": 28,
   "id": "555db8da",
   "metadata": {},
   "outputs": [
    {
     "data": {
      "text/plain": [
       "49"
      ]
     },
     "execution_count": 28,
     "metadata": {},
     "output_type": "execute_result"
    }
   ],
   "source": [
    "#  total number of unique countries in the dataset\n",
    "data['Area'].nunique()"
   ]
  },
  {
   "cell_type": "code",
   "execution_count": null,
   "id": "a71aeeac",
   "metadata": {},
   "outputs": [],
   "source": []
  }
 ],
 "metadata": {
  "kernelspec": {
   "display_name": "Python 3",
   "language": "python",
   "name": "python3"
  },
  "language_info": {
   "codemirror_mode": {
    "name": "ipython",
    "version": 3
   },
   "file_extension": ".py",
   "mimetype": "text/x-python",
   "name": "python",
   "nbconvert_exporter": "python",
   "pygments_lexer": "ipython3",
   "version": "3.8.8"
  }
 },
 "nbformat": 4,
 "nbformat_minor": 5
}
